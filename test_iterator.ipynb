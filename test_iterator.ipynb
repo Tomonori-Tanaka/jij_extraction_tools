{
 "cells": [
  {
   "cell_type": "code",
   "execution_count": 1,
   "id": "3bbae796",
   "metadata": {},
   "outputs": [],
   "source": [
    "def next_iter(iterator):\n",
    "    for line in iterator:\n",
    "        print(line)\n",
    "    "
   ]
  },
  {
   "cell_type": "code",
   "execution_count": 30,
   "id": "c79a628a",
   "metadata": {},
   "outputs": [],
   "source": [
    "def next_print(iter, n):\n",
    "    for i in range(n):\n",
    "        next(iter)\n",
    "    print(iter.__next__())"
   ]
  },
  {
   "cell_type": "code",
   "execution_count": 31,
   "id": "907cb392",
   "metadata": {},
   "outputs": [
    {
     "name": "stdout",
     "output_type": "stream",
     "text": [
      "aaa that\n",
      "\n",
      "4\n",
      "\n",
      "5\n",
      "\n",
      "6\n",
      "\n",
      "7\n",
      "\n"
     ]
    }
   ],
   "source": [
    "with open(\"test.txt\") as f:\n",
    "    for line in f:\n",
    "        if line.find(\"that\") >= 0:\n",
    "            print(\"aaa\", line)\n",
    "            next_iter(f)\n",
    "            "
   ]
  },
  {
   "cell_type": "code",
   "execution_count": 36,
   "id": "53f05325",
   "metadata": {},
   "outputs": [
    {
     "name": "stdout",
     "output_type": "stream",
     "text": [
      "6\n",
      "\n"
     ]
    }
   ],
   "source": [
    "with open(\"test.txt\") as f:\n",
    "    for line in f:\n",
    "        if line.find(\"that\") >= 0:\n",
    "            next_print(f, 2)\n",
    "            "
   ]
  },
  {
   "cell_type": "code",
   "execution_count": null,
   "id": "cb3e2c90",
   "metadata": {},
   "outputs": [],
   "source": []
  }
 ],
 "metadata": {
  "kernelspec": {
   "display_name": "Python 3 (ipykernel)",
   "language": "python",
   "name": "python3"
  },
  "language_info": {
   "codemirror_mode": {
    "name": "ipython",
    "version": 3
   },
   "file_extension": ".py",
   "mimetype": "text/x-python",
   "name": "python",
   "nbconvert_exporter": "python",
   "pygments_lexer": "ipython3",
   "version": "3.8.5"
  }
 },
 "nbformat": 4,
 "nbformat_minor": 5
}
